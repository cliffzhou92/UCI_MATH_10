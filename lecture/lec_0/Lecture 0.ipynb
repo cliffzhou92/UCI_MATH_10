{
 "cells": [
  {
   "cell_type": "markdown",
   "metadata": {},
   "source": [
    "# Lecture 0 Software Preparation"
   ]
  },
  {
   "cell_type": "markdown",
   "metadata": {},
   "source": [
    "## 1. (Optional) Basics of Git\n",
    "\n",
    "[Github](https://github.com/) is perhaps the world largest open source repository to store, share and collaborate on codes (now purchased by Microsoft), and is based on [Git](https://en.wikipedia.org/wiki/Git)-- a version control tool. For experienced programmers, of course command line is the most popular tool, while for beginners, [Github Desktop](https://desktop.github.com/), is a good choice to start with and get familiar with the concepts.\n",
    "\n",
    "Basic concepts of git:\n",
    "- **Clone**: get a local copy of the folder (repository) from the cloud\n",
    "- **Fetch and Pull**: download the updated repository from cloud and merge with the current local copy\n",
    "- **Commit and Push**: upload the local changes to the cloud and merge with the repository there"
   ]
  },
  {
   "cell_type": "markdown",
   "metadata": {},
   "source": [
    "## 2. Jupyter Notebook\n",
    "\n",
    "The minimal element of notebook file (or building blocks) are the **cells**. For each cell, it has two **types**:\n",
    "- Markdown: write the text,equations ...\n",
    "- Code: write and excute the python code\n",
    "\n",
    "For both cells, you need to run the cell to evaluate (either display or run the code)"
   ]
  },
  {
   "cell_type": "markdown",
   "metadata": {},
   "source": [
    "This is the markdown type: **Hello World!** *Hello World*!\n",
    "### This is another section (header level 3)\n",
    "\n",
    "inline equations with latex: $a^{2}+b^{2} = c^{2}$\n",
    "\n",
    "separate-line equation:\n",
    "$$a^{2}+b^{2} = c^{2}$$\n"
   ]
  },
  {
   "cell_type": "code",
   "execution_count": 3,
   "metadata": {
    "scrolled": true
   },
   "outputs": [
    {
     "name": "stdout",
     "output_type": "stream",
     "text": [
      "Hello World!\n",
      "hello\n"
     ]
    }
   ],
   "source": [
    "# this is the code type, I am the comment in Python follwed by ## signs in the code cell\n",
    "\n",
    "print('Hello World!') # in Python, both \"\" and '' are for strings\n",
    "print(\"hello\")\n",
    "# to run this cell, press control+ enter (cursor in current cell after running) \n",
    "# or shift+ enter (cursor in next cell after running)"
   ]
  },
  {
   "cell_type": "markdown",
   "metadata": {},
   "source": [
    "For each cell, it also has two **modes**:\n",
    "- Command mode: The edge color is blue. To enter this mode, press ``Esc`` on keyboard. This mode is for changing the property or global control of the cell (for example, insert more cells, change cell type from markdown to code)\n",
    "\n",
    "\n",
    "- Edit mode: The edge color is green, and there is a pencil sign in the up-right corner of the menu bar. To enter this mode, press ``Enter`` or double-click (for markdown cells). This mode is for locally edit the content of the cell."
   ]
  },
  {
   "cell_type": "markdown",
   "metadata": {},
   "source": [
    "Useful keyboard shortcuts (of course you can always click the menu bar in the top) in **command mode** (Press `Esc` to enter):\n",
    "- change from markdown to code: `Y`\n",
    "- change from code to markdown: `M`\n",
    "- insert cell above: `A`\n",
    "- insert cell below: `B`\n",
    "- delete cell: type `D` consecutively for two times, i.e. `DD`\n",
    "- undo delete cell: `Z`\n",
    "- move up and down: up and down in keyboard"
   ]
  },
  {
   "cell_type": "code",
   "execution_count": null,
   "metadata": {},
   "outputs": [],
   "source": [
    "# this cell is for you to practice"
   ]
  },
  {
   "cell_type": "code",
   "execution_count": 14,
   "metadata": {},
   "outputs": [
    {
     "data": {
      "text/plain": [
       "8"
      ]
     },
     "execution_count": 14,
     "metadata": {},
     "output_type": "execute_result"
    }
   ],
   "source": [
    "5+3"
   ]
  },
  {
   "cell_type": "code",
   "execution_count": 5,
   "metadata": {},
   "outputs": [
    {
     "data": {
      "text/plain": [
       "2"
      ]
     },
     "execution_count": 5,
     "metadata": {},
     "output_type": "execute_result"
    }
   ],
   "source": [
    "5-3"
   ]
  },
  {
   "cell_type": "code",
   "execution_count": 6,
   "metadata": {},
   "outputs": [
    {
     "data": {
      "text/plain": [
       "15"
      ]
     },
     "execution_count": 6,
     "metadata": {},
     "output_type": "execute_result"
    }
   ],
   "source": [
    "5*3 # multiplication"
   ]
  },
  {
   "cell_type": "code",
   "execution_count": 7,
   "metadata": {},
   "outputs": [
    {
     "data": {
      "text/plain": [
       "1.6666666666666667"
      ]
     },
     "execution_count": 7,
     "metadata": {},
     "output_type": "execute_result"
    }
   ],
   "source": [
    "5/3 # float division"
   ]
  },
  {
   "cell_type": "code",
   "execution_count": 8,
   "metadata": {},
   "outputs": [
    {
     "data": {
      "text/plain": [
       "1"
      ]
     },
     "execution_count": 8,
     "metadata": {},
     "output_type": "execute_result"
    }
   ],
   "source": [
    "5//3 # integer division"
   ]
  },
  {
   "cell_type": "code",
   "execution_count": 9,
   "metadata": {},
   "outputs": [
    {
     "data": {
      "text/plain": [
       "2"
      ]
     },
     "execution_count": 9,
     "metadata": {},
     "output_type": "execute_result"
    }
   ],
   "source": [
    "5%3 # modulo"
   ]
  },
  {
   "cell_type": "code",
   "execution_count": 10,
   "metadata": {},
   "outputs": [
    {
     "data": {
      "text/plain": [
       "125"
      ]
     },
     "execution_count": 10,
     "metadata": {},
     "output_type": "execute_result"
    }
   ],
   "source": [
    "5**3 # important ! this is exponential in python -- double star  **"
   ]
  },
  {
   "cell_type": "code",
   "execution_count": 11,
   "metadata": {},
   "outputs": [
    {
     "data": {
      "text/plain": [
       "6"
      ]
     },
     "execution_count": 11,
     "metadata": {},
     "output_type": "execute_result"
    }
   ],
   "source": [
    "5^3 # this is the bitwise operator in Python -- first difference you come across with matlab!"
   ]
  },
  {
   "cell_type": "code",
   "execution_count": 15,
   "metadata": {},
   "outputs": [
    {
     "data": {
      "text/plain": [
       "0.8"
      ]
     },
     "execution_count": 15,
     "metadata": {},
     "output_type": "execute_result"
    }
   ],
   "source": [
    "abs(-0.8) # built-in function -- absolute value"
   ]
  },
  {
   "cell_type": "code",
   "execution_count": 16,
   "metadata": {},
   "outputs": [
    {
     "name": "stdout",
     "output_type": "stream",
     "text": [
      "Help on built-in function abs in module builtins:\n",
      "\n",
      "abs(x, /)\n",
      "    Return the absolute value of the argument.\n",
      "\n"
     ]
    }
   ],
   "source": [
    "help(abs) # help to see the function documentations"
   ]
  },
  {
   "cell_type": "code",
   "execution_count": 17,
   "metadata": {},
   "outputs": [
    {
     "data": {
      "text/plain": [
       "2"
      ]
     },
     "execution_count": 17,
     "metadata": {},
     "output_type": "execute_result"
    }
   ],
   "source": [
    "min(3,2) # built-in function -- minimal number"
   ]
  },
  {
   "cell_type": "code",
   "execution_count": 18,
   "metadata": {},
   "outputs": [
    {
     "ename": "NameError",
     "evalue": "name 'sqrt' is not defined",
     "output_type": "error",
     "traceback": [
      "\u001b[0;31m---------------------------------------------------------------------------\u001b[0m",
      "\u001b[0;31mNameError\u001b[0m                                 Traceback (most recent call last)",
      "\u001b[0;32m<ipython-input-18-3d21b68d484f>\u001b[0m in \u001b[0;36m<module>\u001b[0;34m\u001b[0m\n\u001b[0;32m----> 1\u001b[0;31m \u001b[0msqrt\u001b[0m\u001b[0;34m(\u001b[0m\u001b[0;36m5\u001b[0m\u001b[0;34m)\u001b[0m \u001b[0;31m# what?\u001b[0m\u001b[0;34m\u001b[0m\u001b[0;34m\u001b[0m\u001b[0m\n\u001b[0m",
      "\u001b[0;31mNameError\u001b[0m: name 'sqrt' is not defined"
     ]
    }
   ],
   "source": [
    "sqrt(5) # what?"
   ]
  },
  {
   "cell_type": "code",
   "execution_count": 19,
   "metadata": {},
   "outputs": [
    {
     "ename": "NameError",
     "evalue": "name 'cos' is not defined",
     "output_type": "error",
     "traceback": [
      "\u001b[0;31m---------------------------------------------------------------------------\u001b[0m",
      "\u001b[0;31mNameError\u001b[0m                                 Traceback (most recent call last)",
      "\u001b[0;32m<ipython-input-19-6b1b2f32141b>\u001b[0m in \u001b[0;36m<module>\u001b[0;34m\u001b[0m\n\u001b[0;32m----> 1\u001b[0;31m \u001b[0mcos\u001b[0m\u001b[0;34m(\u001b[0m\u001b[0;36m0\u001b[0m\u001b[0;34m)\u001b[0m \u001b[0;31m# what???\u001b[0m\u001b[0;34m\u001b[0m\u001b[0;34m\u001b[0m\u001b[0m\n\u001b[0m",
      "\u001b[0;31mNameError\u001b[0m: name 'cos' is not defined"
     ]
    }
   ],
   "source": [
    "cos(0) # what???"
   ]
  },
  {
   "cell_type": "code",
   "execution_count": 20,
   "metadata": {},
   "outputs": [
    {
     "data": {
      "text/plain": [
       "2.23606797749979"
      ]
     },
     "execution_count": 20,
     "metadata": {},
     "output_type": "execute_result"
    }
   ],
   "source": [
    "import math # the functions are in the math module of python! will introduce in later lectures\n",
    "math.sqrt(5)"
   ]
  },
  {
   "cell_type": "code",
   "execution_count": 21,
   "metadata": {},
   "outputs": [
    {
     "data": {
      "text/plain": [
       "1.0"
      ]
     },
     "execution_count": 21,
     "metadata": {},
     "output_type": "execute_result"
    }
   ],
   "source": [
    "math.cos(0)"
   ]
  },
  {
   "cell_type": "code",
   "execution_count": 22,
   "metadata": {},
   "outputs": [
    {
     "data": {
      "text/plain": [
       "'hello world'"
      ]
     },
     "execution_count": 22,
     "metadata": {},
     "output_type": "execute_result"
    }
   ],
   "source": [
    "'hello'+' world' # concatenation of strings"
   ]
  },
  {
   "cell_type": "code",
   "execution_count": 23,
   "metadata": {},
   "outputs": [
    {
     "data": {
      "text/plain": [
       "'hello hello hello '"
      ]
     },
     "execution_count": 23,
     "metadata": {},
     "output_type": "execute_result"
    }
   ],
   "source": [
    "\"hello \"*3 # repeat of strings"
   ]
  },
  {
   "cell_type": "markdown",
   "metadata": {},
   "source": [
    "Further Readings :\n",
    "- [Jupyter Notebook Shorcuts](https://towardsdatascience.com/jypyter-notebook-shortcuts-bf0101a98330)\n",
    "- [Markdown syntax](https://guides.github.com/features/mastering-markdown/)\n",
    "- [Latex syntax](https://www.math.ubc.ca/~pwalls/math-python/jupyter/latex/)"
   ]
  },
  {
   "cell_type": "markdown",
   "metadata": {},
   "source": [
    "## 3. Basics of CPU and GPU\n",
    "\n",
    "- [CPU](https://en.wikipedia.org/wiki/Central_processing_unit): Central Processing Unit, good at complex operations, small number of processor cores.  *Famous Manufacturer*: Intel and AMD \n",
    "\n",
    "\n",
    "- [GPU](https://en.wikipedia.org/wiki/Graphics_processing_unit): Graphics Processing Unit, good at simple operations, huge amount of processor cores. *Famous Manufacturer*: Intel (integrated cards), Nvidia and AMD (discrete cards). In machine learning application, the most popular cards are from Nvidia, partly because of its support for [CUDA](https://en.wikipedia.org/wiki/CUDA) (programming interface to write codes with GPU).\n",
    " \n",
    "\n",
    "**Intuitive Understanding:** CPU is like one college student who can do calculus, while GPU is like 100 elementary school students who only know basic arithmetics. \n",
    "\n",
    "![CPU and GPU](https://data.embeddedcomputing.com/uploads/resize/1256/756/external/data.embeddedcomputing.com/uploads/articles/wp/345439017/54176dc2ec16c-Vivante-Sept-Fig1.jpg)\n",
    "\n",
    "\n",
    "It happens that GPU is very suitable for machine learning (especailly deep learning) tasks (easily speed up calculation by 10-100 times than CPU), and the fast development of GPU is one of the key contributor of machine learning popularity. See more introductions [here](https://www.analyticsvidhya.com/blog/2017/05/gpus-necessary-for-deep-learning/).\n",
    "\n",
    "Nowadays, beyond CPU and GPU, AI [ASIC](https://en.wikipedia.org/wiki/Application-specific_integrated_circuit) (Application-specific integrated circuit) is becoming more and more popular. One of the most well-known example to general public is Google's [TPU](https://en.wikipedia.org/wiki/Tensor_Processing_Unit) (Tensor Processing Unit), which is used in Alpha GO. Until today, it is still a \"secret weapon\" of Google, and you can use TPU from the google's cloud service, which can be [10 times more expensive than GPU](https://cloud.google.com/tpu/pricing). (Google Colab provides some out-dated TPU for free trial). "
   ]
  },
  {
   "cell_type": "markdown",
   "metadata": {},
   "source": [
    "## 4. (Optional) [Google Colab](https://colab.research.google.com/notebooks/intro.ipynb#scrollTo=lSrWNr3MuFUS) and [Kaggle Notebook](https://www.kaggle.com/code)\n",
    "\n",
    "Both provide the free CPU and GPU resources and the notebook enviroment in the cloud. "
   ]
  }
 ],
 "metadata": {
  "kernelspec": {
   "display_name": "Python 3",
   "language": "python",
   "name": "python3"
  },
  "language_info": {
   "codemirror_mode": {
    "name": "ipython",
    "version": 3
   },
   "file_extension": ".py",
   "mimetype": "text/x-python",
   "name": "python",
   "nbconvert_exporter": "python",
   "pygments_lexer": "ipython3",
   "version": "3.7.6"
  }
 },
 "nbformat": 4,
 "nbformat_minor": 4
}
