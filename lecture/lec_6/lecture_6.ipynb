{
 "cells": [
  {
   "cell_type": "markdown",
   "metadata": {
    "slideshow": {
     "slide_type": "slide"
    }
   },
   "source": [
    "# Lecture 6 Class and Modules"
   ]
  },
  {
   "cell_type": "markdown",
   "metadata": {
    "slideshow": {
     "slide_type": "fragment"
    }
   },
   "source": [
    "A possibly overlooked point: Modules and Class in Python share many similaries at the basic level. They both contain some data (names, attributes) and codes (functions, methods) for the convenience of users -- and the codes to call them are also similar. Of course, Class also serves as the blue prints to generate instances, and supports more advanced functions such as Inheritance."
   ]
  },
  {
   "cell_type": "markdown",
   "metadata": {
    "slideshow": {
     "slide_type": "slide"
    }
   },
   "source": [
    "## Class and Instance\n",
    "\n",
    "Intuitively speaking, **classes** (or understood as types) are the \"factories\" to produce **instances** (concrete objects). For example, you can image that in the class of \"list\" in python, it defines the behavior of lists (methods) such as `append`,`copy`, and you can create concrete list objects (each with different values) from the list class, and directly uses the methods defined.\n",
    "\n",
    "Programming with the idea of creating classes is the key to [Object-Oriented Programming(OOP)](https://en.wikipedia.org/wiki/Object-oriented_programming#:~:text=Object%2Doriented%20programming%20(OOP),(often%20known%20as%20methods)). See the concrete example of circle [here](https://en.wikipedia.org/wiki/Comparison_of_programming_paradigms).\n",
    "\n",
    "### Simple Example of Vector\n",
    "Let's first define the simplest class in Python"
   ]
  },
  {
   "cell_type": "code",
   "execution_count": null,
   "metadata": {
    "slideshow": {
     "slide_type": "fragment"
    }
   },
   "outputs": [],
   "source": [
    "class VectorV0:\n",
    "    '''The simplest class in python'''  # this is the document string\n",
    "\n",
    "    pass"
   ]
  },
  {
   "cell_type": "markdown",
   "metadata": {
    "slideshow": {
     "slide_type": "fragment"
    }
   },
   "source": [
    "and create two instances `v1` and `v2` "
   ]
  },
  {
   "cell_type": "code",
   "execution_count": null,
   "metadata": {
    "slideshow": {
     "slide_type": "fragment"
    }
   },
   "outputs": [],
   "source": [
    "v1 = VectorV0()  # note the parentheses here, they are the grammar to create instance from class\n",
    "print(id(v1))\n",
    "v2 = VectorV0() \n",
    "id(v2)"
   ]
  },
  {
   "cell_type": "markdown",
   "metadata": {
    "slideshow": {
     "slide_type": "slide"
    }
   },
   "source": [
    "Now `v1` and `v2`  are the objects in Python"
   ]
  },
  {
   "cell_type": "code",
   "execution_count": null,
   "metadata": {
    "slideshow": {
     "slide_type": "fragment"
    }
   },
   "outputs": [],
   "source": [
    "type(v1)"
   ]
  },
  {
   "cell_type": "code",
   "execution_count": null,
   "metadata": {
    "slideshow": {
     "slide_type": "fragment"
    }
   },
   "outputs": [],
   "source": [
    "dir(v1)"
   ]
  },
  {
   "cell_type": "markdown",
   "metadata": {
    "slideshow": {
     "slide_type": "slide"
    }
   },
   "source": [
    "We can manually assign the attributes to instance `v1` and `v2`"
   ]
  },
  {
   "cell_type": "code",
   "execution_count": null,
   "metadata": {
    "slideshow": {
     "slide_type": "fragment"
    }
   },
   "outputs": [],
   "source": [
    "v1.x = 1.0 # this is called instance attributes\n",
    "v1.y = 2.0\n",
    "v2.x = 2.0\n",
    "v2.y = 3.0"
   ]
  },
  {
   "cell_type": "code",
   "execution_count": null,
   "metadata": {
    "slideshow": {
     "slide_type": "fragment"
    }
   },
   "outputs": [],
   "source": [
    "dir(v1)"
   ]
  },
  {
   "cell_type": "markdown",
   "metadata": {
    "slideshow": {
     "slide_type": "slide"
    }
   },
   "source": [
    "We don't want to create the instance or define the coordinates seperately. Can we do these in one step, when initializing the instance?"
   ]
  },
  {
   "cell_type": "code",
   "execution_count": null,
   "metadata": {
    "slideshow": {
     "slide_type": "fragment"
    }
   },
   "outputs": [],
   "source": [
    "class VectorV1:\n",
    "    '''define the vector'''  # this is the document string\n",
    "    dim = 2   # this is the attribute in class -- class attributes\n",
    "    def __init__(self, x=0.0, y=0.0):  # any method in Class requires the first parameter to be self!\n",
    "        self.x = x # instance attributes defined by self.attr\n",
    "        self.y = y"
   ]
  },
  {
   "cell_type": "code",
   "execution_count": null,
   "metadata": {
    "slideshow": {
     "slide_type": "fragment"
    }
   },
   "outputs": [],
   "source": [
    "v1 = VectorV1(1.0,2.0) # you can pass the value directly, because you defined the __init__ in class"
   ]
  },
  {
   "cell_type": "code",
   "execution_count": null,
   "metadata": {
    "slideshow": {
     "slide_type": "fragment"
    }
   },
   "outputs": [],
   "source": [
    "dir(v1)"
   ]
  },
  {
   "cell_type": "code",
   "execution_count": null,
   "metadata": {
    "slideshow": {
     "slide_type": "fragment"
    }
   },
   "outputs": [],
   "source": [
    "print(v1.dim)\n",
    "print(v1.x)\n",
    "print(v1.y)"
   ]
  },
  {
   "cell_type": "markdown",
   "metadata": {
    "slideshow": {
     "slide_type": "slide"
    }
   },
   "source": [
    "Btw, there is nothing mysterious about the `__init__`: you can just assume it is a function (method) stored in v1, and you can always call it if you like!\n",
    "\n",
    "When you write `v1.__init__()`, you can equivalently think that you are calling a function with \"ugly function name\" `__init__`, and the parameter is `v1` (self), i.e. you are writing `__init__(v1)`. It is just a function updating the attributes of instance objects!\n",
    "\n",
    "More generally, for the method `method(self, params)` you can call it by `self.method(params)`."
   ]
  },
  {
   "cell_type": "code",
   "execution_count": null,
   "metadata": {
    "slideshow": {
     "slide_type": "fragment"
    }
   },
   "outputs": [],
   "source": [
    "print(v1.x)\n",
    "print(id(v1))\n",
    "y = v1.__init__()\n",
    "print(v1.x)\n",
    "print(id(v1))\n",
    "print(y)"
   ]
  },
  {
   "cell_type": "markdown",
   "metadata": {
    "slideshow": {
     "slide_type": "fragment"
    }
   },
   "source": [
    "`v1` is just like a mutable object,  and the \"function\" `__init__( )` just change `v1` in place!"
   ]
  },
  {
   "cell_type": "markdown",
   "metadata": {
    "slideshow": {
     "slide_type": "slide"
    }
   },
   "source": [
    "Now we move on to update our vector class by defining more functions. Since you may not like ugly names here with dunder, let's just begin with normal function names."
   ]
  },
  {
   "cell_type": "code",
   "execution_count": null,
   "metadata": {
    "slideshow": {
     "slide_type": "fragment"
    }
   },
   "outputs": [],
   "source": [
    "import math\n",
    "\n",
    "class VectorV2:\n",
    "    '''define the vector'''  # this is the document string\n",
    "    dim = 2   # this is the class attribute\n",
    "    \n",
    "    def __init__(self, x=0.0, y=0.0):  # any method in Class requires the first parameter to be self!\n",
    "        '''initialize the vector by providing x and y coordinate'''\n",
    "        self.x = x\n",
    "        self.y = y\n",
    "        \n",
    "    def norm(self): \n",
    "        '''calculate the norm of vector'''\n",
    "        return math.sqrt(self.x**2+self.y**2)\n",
    "    \n",
    "    def vector_sum(self, other):\n",
    "        '''calculate the vector sum of two vectors'''\n",
    "        return VectorV2(self.x + other.x, self.y + other.y)\n",
    "    \n",
    "    def show_coordinate(self):\n",
    "        '''display the coordinates of the vector'''\n",
    "        return 'Vector(%r, %r)' % (self.x, self.y)"
   ]
  },
  {
   "cell_type": "code",
   "execution_count": null,
   "metadata": {
    "slideshow": {
     "slide_type": "fragment"
    }
   },
   "outputs": [],
   "source": [
    "help(VectorV2)  "
   ]
  },
  {
   "cell_type": "code",
   "execution_count": null,
   "metadata": {
    "slideshow": {
     "slide_type": "fragment"
    }
   },
   "outputs": [],
   "source": [
    "v1 = VectorV2(1.0,2.0)\n",
    "v2 = VectorV2(2.0,3.0)"
   ]
  },
  {
   "cell_type": "code",
   "execution_count": null,
   "metadata": {
    "slideshow": {
     "slide_type": "fragment"
    }
   },
   "outputs": [],
   "source": [
    "v1.norm()"
   ]
  },
  {
   "cell_type": "markdown",
   "metadata": {},
   "source": [
    "Equivalent way to call this method is (although not used often):"
   ]
  },
  {
   "cell_type": "code",
   "execution_count": null,
   "metadata": {},
   "outputs": [],
   "source": [
    "VectorV2.norm(v1)"
   ]
  },
  {
   "cell_type": "markdown",
   "metadata": {},
   "source": [
    "Even for built-in types, we have something similiar "
   ]
  },
  {
   "cell_type": "code",
   "execution_count": null,
   "metadata": {},
   "outputs": [],
   "source": [
    "a = [1,2,3]\n",
    "list.append(a,4) # equivalent to a.append(4), note that list is the class name\n",
    "print(a)"
   ]
  },
  {
   "cell_type": "markdown",
   "metadata": {},
   "source": [
    "despite that we don't have any reason not to use `a.append()` directly."
   ]
  },
  {
   "cell_type": "code",
   "execution_count": null,
   "metadata": {
    "slideshow": {
     "slide_type": "fragment"
    }
   },
   "outputs": [],
   "source": [
    "v3 = v1.vector_sum(v2)\n",
    "v3.show_coordinate()"
   ]
  },
  {
   "cell_type": "code",
   "execution_count": null,
   "metadata": {
    "slideshow": {
     "slide_type": "fragment"
    }
   },
   "outputs": [],
   "source": [
    "v1+v2 # will it work?"
   ]
  },
  {
   "cell_type": "code",
   "execution_count": null,
   "metadata": {
    "slideshow": {
     "slide_type": "fragment"
    }
   },
   "outputs": [],
   "source": [
    "print(v3)"
   ]
  },
  {
   "cell_type": "markdown",
   "metadata": {
    "slideshow": {
     "slide_type": "fragment"
    }
   },
   "source": [
    "Something that we are still not satisfied:\n",
    "- By typing v3 or using `print()` in the code, we cannot show its coordinates directly\n",
    "- We cannot use the `+` operator to calculate the vector sum "
   ]
  },
  {
   "cell_type": "markdown",
   "metadata": {
    "slideshow": {
     "slide_type": "slide"
    }
   },
   "source": [
    "### Special (Magic) Methods\n",
    "\n",
    "Here's the magic: by merely changing the function name, we can realize our goal!"
   ]
  },
  {
   "cell_type": "code",
   "execution_count": null,
   "metadata": {
    "slideshow": {
     "slide_type": "fragment"
    }
   },
   "outputs": [],
   "source": [
    "class VectorV3:\n",
    "    '''define the vector'''  # this is the document string\n",
    "    dim = 2   # this is the attribute\n",
    "    \n",
    "    def __init__(self, x=0.0, y=0.0):  # any method in Class requires the first parameter to be self!\n",
    "        '''initialize the vector by providing x and y coordinate'''\n",
    "        self.x = x\n",
    "        self.y = y\n",
    "        \n",
    "    def norm(self): \n",
    "        '''calculate the norm of vector'''\n",
    "        return math.sqrt(self.x**2+self.y**2)\n",
    "    \n",
    "    def __add__ (self, other):\n",
    "        '''calculate the vector sum of two vectors'''\n",
    "        return VectorV3(self.x + other.x, self.y + other.y)\n",
    "    \n",
    "    def __repr__(self):   #special method of string representation\n",
    "        '''display the coordinates of the vector'''\n",
    "        return 'Vector(%r, %r)' % (self.x, self.y)"
   ]
  },
  {
   "cell_type": "code",
   "execution_count": null,
   "metadata": {
    "slideshow": {
     "slide_type": "fragment"
    }
   },
   "outputs": [],
   "source": [
    "help(VectorV3)"
   ]
  },
  {
   "cell_type": "code",
   "execution_count": null,
   "metadata": {
    "slideshow": {
     "slide_type": "fragment"
    }
   },
   "outputs": [],
   "source": [
    "v1 = VectorV3(1.0,2.0)\n",
    "v2 = VectorV3(2.0,3.0)"
   ]
  },
  {
   "cell_type": "code",
   "execution_count": null,
   "metadata": {
    "slideshow": {
     "slide_type": "fragment"
    }
   },
   "outputs": [],
   "source": [
    "v3 = v1.__add__(v2) # just call special methods as ordinary methods\n",
    "v3.__repr__()"
   ]
  },
  {
   "cell_type": "code",
   "execution_count": null,
   "metadata": {
    "slideshow": {
     "slide_type": "fragment"
    }
   },
   "outputs": [],
   "source": [
    "v1 +v2 # here is the point of using special methods!"
   ]
  },
  {
   "cell_type": "code",
   "execution_count": null,
   "metadata": {
    "slideshow": {
     "slide_type": "fragment"
    }
   },
   "outputs": [],
   "source": [
    "v3"
   ]
  },
  {
   "cell_type": "markdown",
   "metadata": {
    "slideshow": {
     "slide_type": "fragment"
    }
   },
   "source": [
    "Special methods are just like VIP admissions to take full use of the built-in operators in Python. With other special methods, you can even get elements by index `v3[0]`, or iterate through the object you created. For more advanced usage, you can [see here](https://rszalski.github.io/magicmethods/)."
   ]
  },
  {
   "cell_type": "markdown",
   "metadata": {},
   "source": [
    "### (Optional) More Comments about `__repr__()` and `__str__()`\n",
    "\n",
    "These are all the methods to display some strings about the object. An obvious difference is that when you directly **run** (evaluate) the object in code cell, it will execute `__repr__`, and when you **print** the object, it will first execute `__str__`. If `__str__` is not defined, then when calling `print`, the `__repr__` will be executed, but not vice versa. For more information, see the discussion [here](https://stackoverflow.com/questions/1436703/what-is-the-difference-between-str-and-repr)."
   ]
  },
  {
   "cell_type": "code",
   "execution_count": null,
   "metadata": {},
   "outputs": [],
   "source": [
    "class VectorV3_1:\n",
    "    '''define the vector'''  # this is the document string\n",
    "    dim = 2   # this is the attribute\n",
    "    \n",
    "    def __init__(self, x=0.0, y=0.0):  # any method in Class requires the first parameter to be self!\n",
    "        '''initialize the vector by providing x and y coordinate'''\n",
    "        self.x = x\n",
    "        self.y = y\n",
    "    \n",
    "    def __repr__(self):   #special method of string representation\n",
    "        '''display the coordinates of the vector'''\n",
    "        return 'repr: Vector(%r, %r)' % (self.x, self.y)\n",
    "    \n",
    "    def __str__(self):   #special method of string representation\n",
    "        '''display the coordinates of the vector'''\n",
    "        return 'str: vector[%r, %r]' % (self.x, self.y)"
   ]
  },
  {
   "cell_type": "code",
   "execution_count": null,
   "metadata": {},
   "outputs": [],
   "source": [
    "v1 = VectorV3_1(1.0,2.0)"
   ]
  },
  {
   "cell_type": "code",
   "execution_count": null,
   "metadata": {},
   "outputs": [],
   "source": [
    "v1 # directly call in cell code, or from repr() function"
   ]
  },
  {
   "cell_type": "code",
   "execution_count": null,
   "metadata": {},
   "outputs": [],
   "source": [
    "print(v1) "
   ]
  },
  {
   "cell_type": "markdown",
   "metadata": {
    "slideshow": {
     "slide_type": "slide"
    }
   },
   "source": [
    "### Inheritance"
   ]
  },
  {
   "cell_type": "markdown",
   "metadata": {
    "slideshow": {
     "slide_type": "fragment"
    }
   },
   "source": [
    "Now we want to add another scalar production method to Vector, but we're tired of rewriting all the other methods. A good way is to create new Class VectorV4 (Child Class) by inheriting from VectorV3 (Parent Class) that we have already defined."
   ]
  },
  {
   "cell_type": "code",
   "execution_count": null,
   "metadata": {
    "slideshow": {
     "slide_type": "fragment"
    }
   },
   "outputs": [],
   "source": [
    "class VectorV4(VectorV3): # Note the class VectorV3 in parentheses here\n",
    "    '''define the vector'''  # this is the document string\n",
    "    def __mul__(self, scalar):\n",
    "        '''calculate the scalar product'''\n",
    "        return VectorV4(self.x * scalar, self.y * scalar)"
   ]
  },
  {
   "cell_type": "code",
   "execution_count": null,
   "metadata": {
    "slideshow": {
     "slide_type": "fragment"
    }
   },
   "outputs": [],
   "source": [
    "help(VectorV4)"
   ]
  },
  {
   "cell_type": "code",
   "execution_count": null,
   "metadata": {
    "slideshow": {
     "slide_type": "fragment"
    }
   },
   "outputs": [],
   "source": [
    "v1 = VectorV4(1.0,2.0)\n",
    "v2 = VectorV4(2.0,3.0)"
   ]
  },
  {
   "cell_type": "code",
   "execution_count": null,
   "metadata": {
    "slideshow": {
     "slide_type": "fragment"
    }
   },
   "outputs": [],
   "source": [
    "v1+v2"
   ]
  },
  {
   "cell_type": "code",
   "execution_count": null,
   "metadata": {
    "slideshow": {
     "slide_type": "fragment"
    }
   },
   "outputs": [],
   "source": [
    "v1*2"
   ]
  },
  {
   "cell_type": "markdown",
   "metadata": {},
   "source": [
    "## Modules and Packages\n",
    "\n"
   ]
  },
  {
   "cell_type": "markdown",
   "metadata": {},
   "source": [
    "In Python, Functions (plus Classes, Variables) are contained in Modules, and Modules are organized in directories of Packages. In fact, Modules are also objects in Python!"
   ]
  },
  {
   "cell_type": "markdown",
   "metadata": {},
   "source": [
    "Now we have the `Vector.py` file in the folder. When we import the module, the interpreter will create a name `Vector` pointing to the module object. The functions/classes/variables defined in the module can be called with `Vector.XXX`, i.e. they are in the **namespace** of `Vector` (can be seen through `dir`).\n",
    "\n",
    "Of course, the (annoying) rules of object assignment (be careful about changing mutable objects even in modules) in Python still applies, but we won't go deep in this course."
   ]
  },
  {
   "cell_type": "code",
   "execution_count": null,
   "metadata": {},
   "outputs": [],
   "source": [
    "import Vector\n",
    "print(type(Vector))\n",
    "dir(Vector) # 'attributes' (namespace) in the module Vector -- note the variables/functions we have defined in the .py file are here!"
   ]
  },
  {
   "cell_type": "code",
   "execution_count": null,
   "metadata": {},
   "outputs": [],
   "source": [
    "Vector.string"
   ]
  },
  {
   "cell_type": "code",
   "execution_count": null,
   "metadata": {},
   "outputs": [],
   "source": [
    "Vector.print_hello()"
   ]
  },
  {
   "cell_type": "code",
   "execution_count": null,
   "metadata": {},
   "outputs": [],
   "source": [
    "v5 = Vector.VectorV5(1.0,2.0)\n",
    "v5"
   ]
  },
  {
   "cell_type": "markdown",
   "metadata": {},
   "source": [
    "Other different ways to import module:"
   ]
  },
  {
   "cell_type": "code",
   "execution_count": null,
   "metadata": {},
   "outputs": [],
   "source": [
    "import Vector as vc # create a name vc point to the module Vecotr.py -- good practice, all the functions will start with vc. -- you know where they are from!\n",
    "vc.string"
   ]
  },
  {
   "cell_type": "code",
   "execution_count": null,
   "metadata": {},
   "outputs": [],
   "source": [
    "from Vector import print_hello # may cause some name conflicts if write larger programs\n",
    "print_hello() # where does this print_hello come from ? it may take some time to figure out..."
   ]
  },
  {
   "cell_type": "markdown",
   "metadata": {},
   "source": [
    "It's totally possible that different modules (packages) contain same names. Some problems may happen if we try the from...import way. That's why the first way (import or import as) is always recommended."
   ]
  },
  {
   "cell_type": "code",
   "execution_count": null,
   "metadata": {},
   "outputs": [],
   "source": [
    "import math \n",
    "import numpy as np\n",
    "print(math.cos(math.pi))# eveything is clear -- there won't be any confusions\n",
    "print(np.cos(np.pi))# eveything is clear -- there won't be any confusions"
   ]
  },
  {
   "cell_type": "code",
   "execution_count": null,
   "metadata": {},
   "outputs": [],
   "source": [
    "from Vector import * # Be careful about import everything -- may cause serious name conflicts!!!\n",
    "string"
   ]
  },
  {
   "cell_type": "markdown",
   "metadata": {},
   "source": [
    "To import the modules, you must ensure that they are in your system paths."
   ]
  },
  {
   "cell_type": "code",
   "execution_count": null,
   "metadata": {},
   "outputs": [],
   "source": [
    "import sys\n",
    "sys.path"
   ]
  },
  {
   "cell_type": "code",
   "execution_count": null,
   "metadata": {},
   "outputs": [],
   "source": [
    "sys.modules.keys() # check all the modules are currently imported in the kernel"
   ]
  },
  {
   "cell_type": "markdown",
   "metadata": {},
   "source": [
    "We can import the `inspect` module and use `getsource` function to see the source codes of imported modules."
   ]
  },
  {
   "cell_type": "code",
   "execution_count": null,
   "metadata": {},
   "outputs": [],
   "source": [
    "import inspect # this inspect itself is a module!\n",
    "lines = inspect.getsource(Vector.VectorV5) \n",
    "print(lines)"
   ]
  },
  {
   "cell_type": "markdown",
   "metadata": {},
   "source": [
    "Note that this does not work for some Python modules/functions (Because they are written in C language).\n",
    "\n",
    "You can view all the source codes of Python [here](https://github.com/python/cpython). Here is the complete documentation for reference about [standard Python libary](https://docs.python.org/3/library/) -- the .py files that are now in your computer when you install python!"
   ]
  },
  {
   "cell_type": "code",
   "execution_count": null,
   "metadata": {},
   "outputs": [],
   "source": [
    "import math # this won't work, because math is the built-in function -- written in C language!\n",
    "lines = inspect.getsource(math.sqrt) # will print the error\n",
    "print(lines)"
   ]
  },
  {
   "cell_type": "code",
   "execution_count": null,
   "metadata": {},
   "outputs": [],
   "source": [
    "import copy # this can work, because copy.py is the \"lib\" folder and is written in Python\n",
    "lines = inspect.getsource(copy.deepcopy) # no problem\n",
    "print(lines)"
   ]
  },
  {
   "cell_type": "code",
   "execution_count": null,
   "metadata": {},
   "outputs": [],
   "source": [
    "inspect.getsourcefile(copy) # see? the copy.py is in our local computer"
   ]
  },
  {
   "cell_type": "markdown",
   "metadata": {},
   "source": [
    "### Notes on Numpy Package\n",
    "If we are interested in `numpy` that we're going to talk about in details soon -- in fact `numpy` is a package rather than modules. Package can contain many modules (some are also called subpackages, their difference is not important for our course) -- for example, the module (or subpackage, which is in the sub-directory of numpy) of [linalg](https://github.com/numpy/numpy/blob/master/numpy/linalg/linalg.py)."
   ]
  },
  {
   "cell_type": "code",
   "execution_count": null,
   "metadata": {},
   "outputs": [],
   "source": [
    "import numpy as np # import the package numpy, and assign the \"nickname\" np to it\n",
    "[name for name in sys.modules.keys() if name.startswith('numpy')] # check what modules in numpy package has been imported"
   ]
  },
  {
   "cell_type": "code",
   "execution_count": null,
   "metadata": {},
   "outputs": [],
   "source": [
    "print(np)\n",
    "dir(np) # namespace of numpy package -- it also includes the functions in np.core"
   ]
  },
  {
   "cell_type": "markdown",
   "metadata": {},
   "source": [
    "Something special about numpy: The namespace of numpy contains both modules (e.g.`linalg` module) and functions (e.g. `sum` function). In fact, thesse functions are imported from the modules (subpackages) `numpy.core` or `numpy.lib` -- they are loaded only for the convenience of users, because of their high frequency in usage. For a more complete understanding, we can go to see the structure of numpy package in [GitHub](https://github.com/numpy/numpy)."
   ]
  },
  {
   "cell_type": "code",
   "execution_count": null,
   "metadata": {},
   "outputs": [],
   "source": [
    "type(np.linalg)"
   ]
  },
  {
   "cell_type": "code",
   "execution_count": null,
   "metadata": {},
   "outputs": [],
   "source": [
    "type(np.sum)"
   ]
  },
  {
   "cell_type": "code",
   "execution_count": null,
   "metadata": {},
   "outputs": [],
   "source": [
    "print(id(np.core.sum))\n",
    "print(id(np.sum))# see? np.sum is the same function with np.core.sum. In your usage, please use np.sum because it is more convenient\n",
    "np.core.sum is np.sum"
   ]
  },
  {
   "cell_type": "code",
   "execution_count": null,
   "metadata": {},
   "outputs": [],
   "source": [
    "print(inspect.getsource(np.sum))# let's see the source code of sum function"
   ]
  },
  {
   "cell_type": "code",
   "execution_count": null,
   "metadata": {},
   "outputs": [],
   "source": [
    "'eig' in dir(np) # where is the eigen value/vector function?"
   ]
  },
  {
   "cell_type": "code",
   "execution_count": null,
   "metadata": {},
   "outputs": [],
   "source": [
    "np.eig # Won't work! Because eig is not defined in numpy (core) module!"
   ]
  },
  {
   "cell_type": "code",
   "execution_count": null,
   "metadata": {},
   "outputs": [],
   "source": [
    "print(np.linalg) # np.linalg is a module(subpackage) -- its namespace containing many functions!\n",
    "dir(np.linalg) # let's check the names (functions) in linalg"
   ]
  },
  {
   "cell_type": "code",
   "execution_count": null,
   "metadata": {},
   "outputs": [],
   "source": [
    "help(np.linalg.eig) # eig function is here! Don't forget to import numpy as np first"
   ]
  },
  {
   "cell_type": "code",
   "execution_count": null,
   "metadata": {},
   "outputs": [],
   "source": [
    "from numpy import linalg # another way to import linalg module(subpackage) from numpy package\n",
    "linalg.eig # now we create a name linalg to point to the linalg.py module, and can get the eig function"
   ]
  },
  {
   "cell_type": "code",
   "execution_count": null,
   "metadata": {},
   "outputs": [],
   "source": [
    "import numpy.linalg as LA # another way to import the linalg\n",
    "LA.eig"
   ]
  },
  {
   "cell_type": "code",
   "execution_count": null,
   "metadata": {},
   "outputs": [],
   "source": [
    "import numpy.linalg # another way to import the linalg\n",
    "numpy.linalg.eig"
   ]
  },
  {
   "cell_type": "code",
   "execution_count": null,
   "metadata": {},
   "outputs": [],
   "source": [
    "from numpy.linalg import eig #import the eig function directly\n",
    "eig"
   ]
  },
  {
   "cell_type": "markdown",
   "metadata": {},
   "source": [
    "### Take-home message (Basic requirements)\n",
    "- Understand the concept of Python modules (.py files storing objects)\n",
    "- Know different ways to import modules and objects in the modules (`import`, `import ... as`, `from ... import`)\n",
    "- Understand the basic concept of package, and know how to import modules and functions within it (use `numpy`, `linalg` and `eig` as example)"
   ]
  },
  {
   "cell_type": "markdown",
   "metadata": {},
   "source": [
    "## Beyond Basic Python: What's next? -- Some Suggestions\n",
    "\n",
    "- Knowledge and wisdom\n",
    "- What we have not covered in basic python: other data types (dictionary, set, tuple), input/output, exceptions, -- consult [a byte of python](https://python.swaroopch.com/), or [programiz](https://www.programiz.com/python-programming)\n",
    "- The systematic book ([for example,Python Cookbook](https://www.oreilly.com/library/view/python-cookbook-3rd/9781449357337/)) or course in computer science department (ICS-31,33)\n",
    "- Practice!Practice!Practive! Useful websites such as [Leetcode](https://leetcode.com/) \n",
    "- These [cheetsheets](https://www.datacamp.com/community/data-science-cheatsheets?page=4) from datacamp websites might also be helpful throughout this course."
   ]
  }
 ],
 "metadata": {
  "kernelspec": {
   "display_name": "Python 3",
   "language": "python",
   "name": "python3"
  },
  "language_info": {
   "codemirror_mode": {
    "name": "ipython",
    "version": 3
   },
   "file_extension": ".py",
   "mimetype": "text/x-python",
   "name": "python",
   "nbconvert_exporter": "python",
   "pygments_lexer": "ipython3",
   "version": "3.7.6"
  }
 },
 "nbformat": 4,
 "nbformat_minor": 4
}
