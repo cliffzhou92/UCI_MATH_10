{
 "cells": [
  {
   "cell_type": "markdown",
   "metadata": {
    "slideshow": {
     "slide_type": "slide"
    }
   },
   "source": [
    "# Lecture 2 Introduction to Python"
   ]
  },
  {
   "cell_type": "markdown",
   "metadata": {
    "slideshow": {
     "slide_type": "fragment"
    }
   },
   "source": [
    "## Why Python?"
   ]
  },
  {
   "cell_type": "markdown",
   "metadata": {
    "slideshow": {
     "slide_type": "subslide"
    }
   },
   "source": [
    "### Python is Popular\n",
    "How to measure popularity? It is indeed a data science problem!\n",
    "\n",
    "- [TIOBE](https://tiobe.com/tiobe-index/): Based on google search results\n",
    "- [PYPL PopularitY](https://pypl.github.io/PYPL.html): Based on google trends\n",
    "- [GitHut 2.0](https://madnight.github.io/githut/#/pull_requests/2020/2): Based on Github\n",
    "- [Redmonk](https://redmonk.com/sogrady/2020/07/27/language-rankings-6-20/): Based on Github+Stack Overflow\n",
    "\n",
    "Whay about in data science/machine learning community?\n",
    "\n",
    "[A survey conducted by Kaggle](https://www.kaggle.com/kaggle-survey-2020)"
   ]
  },
  {
   "cell_type": "markdown",
   "metadata": {
    "slideshow": {
     "slide_type": "slide"
    }
   },
   "source": [
    "### Python is Good\n",
    "- Stable Learning Curves\n",
    "\n",
    "[An entertaning cartoon from Tobias Hermann](https://github.com/Dobiasd/articles/blob/master/programming_language_learning_curves.md)\n",
    "\n",
    "- Scalability of Computation (with the help with other packages)\n",
    "\n",
    "[benchmarking of scientific computation problems](https://modelingguru.nasa.gov/docs/DOC-2783)\n",
    "\n",
    "[comparison between Numpy and Matlab](https://jekel.me/2017/Python-with-Numba-faster-than-fortran/)\n",
    "\n",
    "- Useful Packages\n",
    "    - [Numpy](https://numpy.org/): Scientific Computing\n",
    "    - [Pandas](https://pandas.pydata.org/): Data Analysis and Manipulation\n",
    "    - [Scikit-Learn](https://scikit-learn.org/stable/): Machine Learning\n",
    "    - [Matplotlib](https://matplotlib.org/): Visualizing Functions/Datasets\n",
    "    - [Seaborn](https://seaborn.pydata.org/): Visualizing Statistical Data"
   ]
  },
  {
   "cell_type": "markdown",
   "metadata": {
    "slideshow": {
     "slide_type": "slide"
    }
   },
   "source": [
    "## What is Python\n",
    "- [Official Definition](https://www.python.org/doc/essays/blurb/): Python is an **interpreted**, **object-oriented**, high-level programming language with **dynamic semantics**. \n",
    "\n",
    "- Father of Python: [Guido van Rossum](https://gvanrossum.github.io/), see also the [history of python](https://en.wikipedia.org/wiki/History_of_Python).\n",
    "\n",
    "- The *ZEN* of python and to be *pythonic*."
   ]
  },
  {
   "cell_type": "code",
   "execution_count": 1,
   "metadata": {
    "slideshow": {
     "slide_type": "subslide"
    }
   },
   "outputs": [
    {
     "name": "stdout",
     "output_type": "stream",
     "text": [
      "The Zen of Python, by Tim Peters\n",
      "\n",
      "Beautiful is better than ugly.\n",
      "Explicit is better than implicit.\n",
      "Simple is better than complex.\n",
      "Complex is better than complicated.\n",
      "Flat is better than nested.\n",
      "Sparse is better than dense.\n",
      "Readability counts.\n",
      "Special cases aren't special enough to break the rules.\n",
      "Although practicality beats purity.\n",
      "Errors should never pass silently.\n",
      "Unless explicitly silenced.\n",
      "In the face of ambiguity, refuse the temptation to guess.\n",
      "There should be one-- and preferably only one --obvious way to do it.\n",
      "Although that way may not be obvious at first unless you're Dutch.\n",
      "Now is better than never.\n",
      "Although never is often better than *right* now.\n",
      "If the implementation is hard to explain, it's a bad idea.\n",
      "If the implementation is easy to explain, it may be a good idea.\n",
      "Namespaces are one honking great idea -- let's do more of those!\n"
     ]
    }
   ],
   "source": [
    "import this"
   ]
  },
  {
   "cell_type": "markdown",
   "metadata": {
    "slideshow": {
     "slide_type": "slide"
    }
   },
   "source": [
    "### Comparison between Python and Matlab\n",
    "[A very good introduction on the comparison](https://realpython.com/matlab-vs-python/#syntax-differences-between-matlab-and-python).\n",
    "- **Python index starts from 0.** [The plausible explanation](https://www.cs.utexas.edu/users/EWD/transcriptions/EWD08xx/EWD831.html)"
   ]
  },
  {
   "cell_type": "code",
   "execution_count": 2,
   "metadata": {
    "slideshow": {
     "slide_type": "subslide"
    }
   },
   "outputs": [
    {
     "name": "stdout",
     "output_type": "stream",
     "text": [
      "1\n",
      "3\n",
      "[3, 4, 5, 6, 7, 8]\n"
     ]
    }
   ],
   "source": [
    "array = [1,2,3] # create a list\n",
    "print(array[0]) # First element, in matlab we use array(1)\n",
    "print(array[-1])# Last element, in matlab we use array(end)\n",
    "print(list(range(3,9)))\n"
   ]
  },
  {
   "cell_type": "markdown",
   "metadata": {
    "slideshow": {
     "slide_type": "subslide"
    }
   },
   "source": [
    "- **Indentation is important in Python**. [The explanation](https://web.archive.org/web/20070922223915/http://www.secnetix.de/~olli/Python/block_indentation.hawk)"
   ]
  },
  {
   "cell_type": "code",
   "execution_count": 3,
   "metadata": {
    "slideshow": {
     "slide_type": "fragment"
    }
   },
   "outputs": [
    {
     "ename": "IndentationError",
     "evalue": "expected an indented block (<ipython-input-3-0b58fb6e072f>, line 2)",
     "output_type": "error",
     "traceback": [
      "\u001b[0;36m  File \u001b[0;32m\"<ipython-input-3-0b58fb6e072f>\"\u001b[0;36m, line \u001b[0;32m2\u001b[0m\n\u001b[0;31m    print(\"Five is greater than two!\") # in matlab we use if-end, in C or R we use curly brackets {}\u001b[0m\n\u001b[0m        ^\u001b[0m\n\u001b[0;31mIndentationError\u001b[0m\u001b[0;31m:\u001b[0m expected an indented block\n"
     ]
    }
   ],
   "source": [
    "if 5 > 2:\n",
    "print(\"Five is greater than two!\") # in matlab we use if-end, in C or R we use curly brackets {}"
   ]
  },
  {
   "cell_type": "code",
   "execution_count": 4,
   "metadata": {
    "slideshow": {
     "slide_type": "fragment"
    }
   },
   "outputs": [
    {
     "name": "stdout",
     "output_type": "stream",
     "text": [
      "Five is greater than two!\n"
     ]
    }
   ],
   "source": [
    "if 5 > 2:\n",
    "    print(\"Five is greater than two!\")"
   ]
  },
  {
   "cell_type": "markdown",
   "metadata": {
    "slideshow": {
     "slide_type": "slide"
    }
   },
   "source": [
    "## How to learn and use Python well?\n",
    "- [Anaconda](https://www.anaconda.com/products/individual)\n",
    "- [Jupyter Notebook](https://jupyter.org/install)\n",
    "- Brief guide for Python progamming language: [A Byte of Python](https://python.swaroopch.com/)\n",
    "- Tutorials on Python Machine Learning: [Python Data Science Handbook](https://jakevdp.github.io/PythonDataScienceHandbook/)\n",
    "- [UCI datasets](https://archive.ics.uci.edu/ml/index.php) and Kaggle"
   ]
  },
  {
   "cell_type": "markdown",
   "metadata": {
    "slideshow": {
     "slide_type": "subslide"
    }
   },
   "source": [
    "**A Motivating (or more confusing?) Example**\n",
    "\n",
    "please keep this example in mind when we start learning the Python programming systematically from the next lecture."
   ]
  },
  {
   "cell_type": "code",
   "execution_count": 5,
   "metadata": {
    "slideshow": {
     "slide_type": "subslide"
    }
   },
   "outputs": [
    {
     "name": "stdout",
     "output_type": "stream",
     "text": [
      "1000\n"
     ]
    }
   ],
   "source": [
    "a = 1000\n",
    "b = a\n",
    "b = 1\n",
    "print(a)"
   ]
  },
  {
   "cell_type": "code",
   "execution_count": 9,
   "metadata": {
    "slideshow": {
     "slide_type": "subslide"
    }
   },
   "outputs": [
    {
     "name": "stdout",
     "output_type": "stream",
     "text": [
      "[1000, 1]\n"
     ]
    }
   ],
   "source": [
    "a = [1000,1]\n",
    "b = a\n",
    "b = [1,1]\n",
    "print(a)"
   ]
  },
  {
   "cell_type": "code",
   "execution_count": 10,
   "metadata": {
    "slideshow": {
     "slide_type": "subslide"
    }
   },
   "outputs": [
    {
     "name": "stdout",
     "output_type": "stream",
     "text": [
      "[1, 1]\n"
     ]
    }
   ],
   "source": [
    "a = [1000,1]\n",
    "b = a\n",
    "b[0] = 1 \n",
    "print(a)"
   ]
  }
 ],
 "metadata": {
  "kernelspec": {
   "display_name": "Python 3",
   "language": "python",
   "name": "python3"
  },
  "language_info": {
   "codemirror_mode": {
    "name": "ipython",
    "version": 3
   },
   "file_extension": ".py",
   "mimetype": "text/x-python",
   "name": "python",
   "nbconvert_exporter": "python",
   "pygments_lexer": "ipython3",
   "version": "3.7.6"
  }
 },
 "nbformat": 4,
 "nbformat_minor": 4
}
