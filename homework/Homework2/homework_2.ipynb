{
 "cells": [
  {
   "cell_type": "markdown",
   "metadata": {},
   "source": [
    "# Homework 2\n",
    "###  your name and id\n",
    "\n",
    "This homework has three problems. Please fill the code block cells with your code and comments, ***run*** everything (select `cell` in the menu, and click `Run all`), save the notebook, and upload it to canvas."
   ]
  },
  {
   "cell_type": "markdown",
   "metadata": {},
   "source": [
    "## Problem 1: List Manipulation\n",
    "\n",
    "Write the codes in one cell to exeucte the following tasks:\n",
    "\n",
    "1. Create a list object, containing all **even** numbers from 1 to 99, name it `mylist` \n",
    "2. Print the identity of `mylist`\n",
    "3. Append integer 3 to `mylist`\n",
    "4. Print the identity of `mylist`\n",
    "5. Sort the `mylist` with **descending** order\n",
    "6. Print the identity of `mylist` again\n",
    "7. Print `mylist`\n",
    "\n",
    "*Hint*: You may use the methods for `list` objects to do the tasks. In addition to the `help` function, you can find more examples [here](https://www.w3schools.com/python/python_ref_list.asp)"
   ]
  },
  {
   "cell_type": "code",
   "execution_count": null,
   "metadata": {},
   "outputs": [],
   "source": [
    "# write your code and comments here"
   ]
  },
  {
   "cell_type": "markdown",
   "metadata": {},
   "source": [
    "## Problem 2: Divisor Generator\n",
    "\n",
    "1. Write a function named `divisor_generator` which takes a positive integer as input, and return a list of **all** its positive divisors.\n",
    "2. Test your function by printing the results of `divisor_generator(202104)`\n",
    "\n",
    "*Hint*: \n",
    "\n",
    "1. For basic requirement, you don't have to check whether the input is positive integer or not -- of course it would be great if you do so.\n",
    "\n",
    "2. For a more efficient implementation, you might only need iterate for integers not greater than the square root of n -- think why!"
   ]
  },
  {
   "cell_type": "code",
   "execution_count": 35,
   "metadata": {},
   "outputs": [],
   "source": [
    "# write your code and comments here"
   ]
  },
  {
   "cell_type": "markdown",
   "metadata": {},
   "source": [
    "## Problem 3: Prime Number\n",
    "1. Write a function named `is_prime` which takes a positive integer as input, and return `True` if it is prime number and `False` otherwise.\n",
    "2. Use this function to generate a list named `primelist` that contains all prime numbers less than 2021. Print this list."
   ]
  },
  {
   "cell_type": "code",
   "execution_count": 1,
   "metadata": {},
   "outputs": [],
   "source": [
    "# write your code and comments here"
   ]
  },
  {
   "cell_type": "markdown",
   "metadata": {},
   "source": [
    "## Optional Problem (Not graded)\n",
    "\n",
    "In certain homeworks/final project, we will provide some optional problems for you to think and try. They won't count in the grades, while they may serve as the good opportunity to sharpen your skills, as well as the important reference to determine the A+ grade at the end of this course.\n",
    "\n",
    "1. Try to use the **list comprehension** as possible as you can in writing the codes above.\n",
    "\n",
    "\n",
    "2. For task 2 in Problem 3, can you use efficient algorithms, for instance [Sieve of Eratosthenes](https://en.wikipedia.org/wiki/Sieve_of_Eratosthenes)?"
   ]
  },
  {
   "cell_type": "code",
   "execution_count": null,
   "metadata": {},
   "outputs": [],
   "source": [
    "# write your code and comments here"
   ]
  }
 ],
 "metadata": {
  "kernelspec": {
   "display_name": "Python 3",
   "language": "python",
   "name": "python3"
  },
  "language_info": {
   "codemirror_mode": {
    "name": "ipython",
    "version": 3
   },
   "file_extension": ".py",
   "mimetype": "text/x-python",
   "name": "python",
   "nbconvert_exporter": "python",
   "pygments_lexer": "ipython3",
   "version": "3.7.6"
  }
 },
 "nbformat": 4,
 "nbformat_minor": 4
}
